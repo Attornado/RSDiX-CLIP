{
 "cells": [
  {
   "cell_type": "code",
   "execution_count": null,
   "id": "4eab2056-b315-4c79-9dde-cb7cad426be5",
   "metadata": {},
   "outputs": [],
   "source": [
    "from torch.utils.data import DataLoader \n",
    "\n",
    "\n",
    "def plot_batches(dataset, batch_size=4, shuffle=True): \n",
    "    dataloader = DataLoader(dataset, batch_size=batch_size, shuffle=shuffle) \n",
    "\n",
    "    for i, batch in enumerate(dataloader): \n",
    "        captions = []\n",
    "        og_captions = []\n",
    "        figure = plt.figure(figsize=(8, 8))\n",
    "        for j in range(1, 5): \n",
    "            image = batch[\"image\"][j - 1]\n",
    "            captions.append(batch[\"caption\"][j - 1])\n",
    "            figure.add_subplot(2, 2, j)\n",
    "            plt.title(f\"image {j} of batch {i}\")\n",
    "            plt.axis(\"off\")\n",
    "            plt.imshow(image.permute(1, 2, 0))\n",
    "        plt.show()\n",
    "\n",
    "        for k in range(len(captions)):\n",
    "            print(f\"image {k + 1} caption of batch {i}: {captions[k]}\")\n",
    "\n",
    "        if i == 1:\n",
    "            break"
   ]
  },
  {
   "cell_type": "code",
   "execution_count": null,
   "id": "4a48bb8a-f4b0-4f1d-86e2-fb1cf1b2be15",
   "metadata": {
    "ExecuteTime": {
     "end_time": "2023-04-25T15:03:32.494357Z",
     "start_time": "2023-04-25T15:03:31.678718Z"
    },
    "pycharm": {
     "is_executing": true
    }
   },
   "outputs": [],
   "source": [
    "from datasets.rsicd import RSICD\n",
    "import torch\n",
    "import matplotlib.pyplot as plt\n",
    "\n",
    "rsicd = RSICD(\"./data/RSICD/dataset_rsicd.json\", \"./data/RSICD/RSICD_images\")\n",
    "plot_batches(rsicd)"
   ]
  },
  {
   "cell_type": "code",
   "execution_count": null,
   "id": "0b74dd82-4c94-4265-a5fd-d2846b0aab6d",
   "metadata": {},
   "outputs": [],
   "source": [
    "from datasets.ucmd import UCMD \n",
    "\n",
    "ucmd = UCMD(\"./data/UCMD/dataset_ucm.json\", \"./data/UCMD/UCM_images\")\n",
    "plot_batches(ucmd)"
   ]
  },
  {
   "cell_type": "code",
   "execution_count": null,
   "id": "5639c9d9-8af4-4808-a442-f8b0360768c3",
   "metadata": {},
   "outputs": [],
   "source": []
  },
  {
   "cell_type": "code",
   "execution_count": null,
   "id": "71d0b0d8-1013-43e3-929f-956e84a53a19",
   "metadata": {},
   "outputs": [],
   "source": []
  }
 ],
 "metadata": {
  "kernelspec": {
   "display_name": "Python 3 (ipykernel)",
   "language": "python",
   "name": "python3"
  },
  "language_info": {
   "codemirror_mode": {
    "name": "ipython",
    "version": 3
   },
   "file_extension": ".py",
   "mimetype": "text/x-python",
   "name": "python",
   "nbconvert_exporter": "python",
   "pygments_lexer": "ipython3",
   "version": "3.10.9"
  }
 },
 "nbformat": 4,
 "nbformat_minor": 5
}
